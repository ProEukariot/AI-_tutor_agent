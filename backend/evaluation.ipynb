{
 "cells": [
  {
   "cell_type": "markdown",
   "id": "d147cb4c",
   "metadata": {},
   "source": [
    "Evaluation"
   ]
  },
  {
   "cell_type": "markdown",
   "id": "77af30df",
   "metadata": {},
   "source": [
    "Import environment variables"
   ]
  },
  {
   "cell_type": "code",
   "execution_count": 11,
   "id": "2202d378",
   "metadata": {},
   "outputs": [
    {
     "data": {
      "text/plain": [
       "True"
      ]
     },
     "execution_count": 11,
     "metadata": {},
     "output_type": "execute_result"
    }
   ],
   "source": [
    "import dotenv\n",
    "import os\n",
    "\n",
    "dotenv.load_dotenv()\n"
   ]
  },
  {
   "cell_type": "markdown",
   "id": "25cead24",
   "metadata": {},
   "source": [
    "Load docs"
   ]
  },
  {
   "cell_type": "code",
   "execution_count": 12,
   "id": "5d7b9e16",
   "metadata": {},
   "outputs": [
    {
     "data": {
      "text/plain": [
       "Document(metadata={'producer': 'Microsoft: Print To PDF', 'creator': '', 'creationdate': '2023-07-15T11:40:07+05:30', 'source': 'test_data/INTRODUCTION-TO-RDBMS.pdf', 'file_path': 'test_data/INTRODUCTION-TO-RDBMS.pdf', 'total_pages': 24, 'format': 'PDF 1.7', 'title': 'Microsoft Word - Introduction to relational databases', 'author': 'Administrator', 'subject': '', 'keywords': '', 'moddate': '2023-07-15T11:40:07+05:30', 'trapped': '', 'modDate': \"D:20230715114007+05'30'\", 'creationDate': \"D:20230715114007+05'30'\", 'page': 0}, page_content='Introduction to relational databases \\n \\nIntroduction to relational databases \\n \\n\\uf0b7 A relational database is based on the relational model and uses a collection of \\ntables to represent both data and the relationship among those data. \\n\\uf0b7 It also includes DDL and DML  \\n\\uf0b7 Relational database was originally defined by Edger Codd at IBM Research \\ncenter in 1970. \\n\\uf0b7 In relational database, user only needs to understand logical structure of data, \\nnot how it is physically stored. \\n\\uf0b7 Data is represented using tables \\uf0e0 consists of rows and columns. \\n\\uf0b7 A relational database simply a collection of tables. \\n \\nRelational database basic concepts \\n \\ni) Relations or table \\n\\uf0b7 A relation is defined as set of tuples that have the same attribute \\n\\uf0b7 A relation is usually described as table, which is organized into rows and \\ncolumns. \\nii) Base and derived relation \\n\\uf0b7 In relational database, all data are stored and accessed using relation. \\n\\uf0b7 Relation / table which store data are called base relations. \\n\\uf0b7 Relations which do not store data, but are computed by applying relational \\noperator are called Derived relation. \\niii) Tuple / Row / Record \\n\\uf0b7 It holds all information about one item \\n\\uf0b7 Example: all information like roll, name, age, address, age, mark etc., of a \\nparticular student. \\niv) Field / Column \\n\\uf0b7 A field holds one piece of information about an item. \\n\\uf0b7 Field is column in database table. \\n\\uf0b7 Example: age of all the student. \\nv) Constraints \\n\\uf0b7 Condition specified for a particular data. \\n\\uf0b7 Constraints restrict data that can be stored in relations. \\n\\uf0b7 Example: User can set constraints that a given integer attribute should be \\nbetween 1 & 10. \\nvi) Data type \\n\\uf0b7 Every field in a database table is assigned a data types, which describe the kind \\nof data that can be stored in the field. \\nvii) Stored procedure')"
      ]
     },
     "execution_count": 12,
     "metadata": {},
     "output_type": "execute_result"
    }
   ],
   "source": [
    "from langchain_community.document_loaders import DirectoryLoader\n",
    "from langchain_community.document_loaders import PyMuPDFLoader\n",
    "\n",
    "\n",
    "path = \"test_data/\"\n",
    "loader = DirectoryLoader(path, glob=\"*.pdf\", loader_cls=PyMuPDFLoader)\n",
    "docs = loader.load()\n",
    "\n",
    "docs[0]"
   ]
  },
  {
   "cell_type": "markdown",
   "id": "6878830b",
   "metadata": {},
   "source": [
    "choose Llm"
   ]
  },
  {
   "cell_type": "code",
   "execution_count": 67,
   "id": "a03dde41",
   "metadata": {},
   "outputs": [
    {
     "name": "stderr",
     "output_type": "stream",
     "text": [
      "/tmp/ipykernel_82574/2774485547.py:6: DeprecationWarning: LangchainLLMWrapper is deprecated and will be removed in a future version. Use the modern LLM providers instead: from ragas.llms.base import llm_factory; llm = llm_factory('gpt-4o-mini') or from ragas.llms.base import instructor_llm_factory; llm = instructor_llm_factory('openai', client=openai_client)\n",
      "  evaluator_llm = evaluator_llm = LangchainLLMWrapper(ChatOpenAI(model=\"gpt-4o-mini\"))\n",
      "/tmp/ipykernel_82574/2774485547.py:7: DeprecationWarning: LangchainLLMWrapper is deprecated and will be removed in a future version. Use the modern LLM providers instead: from ragas.llms.base import llm_factory; llm = llm_factory('gpt-4o-mini') or from ragas.llms.base import instructor_llm_factory; llm = instructor_llm_factory('openai', client=openai_client)\n",
      "  generator_llm = LangchainLLMWrapper(ChatOpenAI(model=\"gpt-4o-mini\"))\n"
     ]
    }
   ],
   "source": [
    "from ragas.llms import LangchainLLMWrapper\n",
    "from langchain_openai import ChatOpenAI\n",
    "from ragas.embeddings import OpenAIEmbeddings\n",
    "import openai\n",
    "\n",
    "evaluator_llm = evaluator_llm = LangchainLLMWrapper(ChatOpenAI(model=\"gpt-4o-mini\"))\n",
    "generator_llm = LangchainLLMWrapper(ChatOpenAI(model=\"gpt-4o-mini\"))\n",
    "openai_client = openai.OpenAI()\n",
    "generator_embeddings = OpenAIEmbeddings(client=openai_client)"
   ]
  },
  {
   "cell_type": "markdown",
   "id": "a934d5cb",
   "metadata": {},
   "source": [
    "Generate testset"
   ]
  },
  {
   "cell_type": "code",
   "execution_count": 15,
   "id": "cdf44ba1",
   "metadata": {},
   "outputs": [
    {
     "name": "stderr",
     "output_type": "stream",
     "text": [
      "Applying SummaryExtractor: 100%|██████████| 23/23 [00:09<00:00,  2.32it/s]\n",
      "Applying CustomNodeFilter:   4%|▍         | 1/24 [00:00<00:22,  1.02it/s]Node bc86845e-0b2a-4657-b9d9-91a4c9e0e79a does not have a summary. Skipping filtering.\n",
      "Applying CustomNodeFilter: 100%|██████████| 24/24 [00:12<00:00,  1.91it/s]\n",
      "Applying EmbeddingExtractor:   0%|          | 0/23 [00:00<?, ?it/s]/root/py/proj/backend/.venv/lib/python3.13/site-packages/ragas/testset/transforms/base.py:188: UserWarning: Using sync embedding model OpenAIEmbeddings in async context. This may impact performance. Consider using an async-compatible embedding model for better performance.\n",
      "  property_name, property_value = await self.extract(node)\n",
      "Applying EmbeddingExtractor: 100%|██████████| 23/23 [00:03<00:00,  5.79it/s]\n",
      "Applying ThemesExtractor: 100%|██████████| 24/24 [00:13<00:00,  1.82it/s]\n",
      "Applying NERExtractor: 100%|██████████| 24/24 [00:09<00:00,  2.58it/s]\n",
      "Applying CosineSimilarityBuilder: 100%|██████████| 1/1 [00:00<00:00, 62.39it/s]\n",
      "Applying OverlapScoreBuilder: 100%|██████████| 1/1 [00:00<00:00, 155.45it/s]\n",
      "Generating personas: 100%|██████████| 3/3 [00:01<00:00,  1.76it/s]\n",
      "Generating Scenarios: 100%|██████████| 3/3 [00:10<00:00,  3.34s/it]\n",
      "Generating Samples: 100%|██████████| 6/6 [00:04<00:00,  1.46it/s]\n"
     ]
    }
   ],
   "source": [
    "from ragas.testset import TestsetGenerator\n",
    "\n",
    "generator = TestsetGenerator(llm=generator_llm, embedding_model=generator_embeddings)\n",
    "dataset = generator.generate_with_langchain_docs(docs, testset_size=5)"
   ]
  },
  {
   "cell_type": "code",
   "execution_count": 16,
   "id": "f327dc1a",
   "metadata": {},
   "outputs": [
    {
     "data": {
      "text/html": [
       "<div>\n",
       "<style scoped>\n",
       "    .dataframe tbody tr th:only-of-type {\n",
       "        vertical-align: middle;\n",
       "    }\n",
       "\n",
       "    .dataframe tbody tr th {\n",
       "        vertical-align: top;\n",
       "    }\n",
       "\n",
       "    .dataframe thead th {\n",
       "        text-align: right;\n",
       "    }\n",
       "</style>\n",
       "<table border=\"1\" class=\"dataframe\">\n",
       "  <thead>\n",
       "    <tr style=\"text-align: right;\">\n",
       "      <th></th>\n",
       "      <th>user_input</th>\n",
       "      <th>reference_contexts</th>\n",
       "      <th>reference</th>\n",
       "      <th>synthesizer_name</th>\n",
       "    </tr>\n",
       "  </thead>\n",
       "  <tbody>\n",
       "    <tr>\n",
       "      <th>0</th>\n",
       "      <td>What significant development in relational dat...</td>\n",
       "      <td>[Introduction to relational databases \\n \\nInt...</td>\n",
       "      <td>The relational database was originally defined...</td>\n",
       "      <td>single_hop_specific_query_synthesizer</td>\n",
       "    </tr>\n",
       "    <tr>\n",
       "      <th>1</th>\n",
       "      <td>What is the significance of a primary key in a...</td>\n",
       "      <td>[ A stored procedure is a high-end database t...</td>\n",
       "      <td>A primary key is a field that uniquely identif...</td>\n",
       "      <td>single_hop_specific_query_synthesizer</td>\n",
       "    </tr>\n",
       "    <tr>\n",
       "      <th>2</th>\n",
       "      <td>What is the significance of the full outer joi...</td>\n",
       "      <td>[&lt;1-hop&gt;\\n\\n Types of outer join \\no Left out...</td>\n",
       "      <td>The full outer join in SQL is significant beca...</td>\n",
       "      <td>multi_hop_abstract_query_synthesizer</td>\n",
       "    </tr>\n",
       "    <tr>\n",
       "      <th>3</th>\n",
       "      <td>What are the extended relational algebra opera...</td>\n",
       "      <td>[&lt;1-hop&gt;\\n\\nIII) Extended Relational Algebra o...</td>\n",
       "      <td>The extended relational algebra operations inc...</td>\n",
       "      <td>multi_hop_abstract_query_synthesizer</td>\n",
       "    </tr>\n",
       "    <tr>\n",
       "      <th>4</th>\n",
       "      <td>Wht is the city of the cust_name in the Deposi...</td>\n",
       "      <td>[&lt;1-hop&gt;\\n\\n Consider two table (Depositor &amp; ...</td>\n",
       "      <td>The city of the cust_name in the Depositor tab...</td>\n",
       "      <td>multi_hop_specific_query_synthesizer</td>\n",
       "    </tr>\n",
       "    <tr>\n",
       "      <th>5</th>\n",
       "      <td>How do you identify candidate keys in the Empl...</td>\n",
       "      <td>[&lt;1-hop&gt;\\n\\n Candidate keys are selected from...</td>\n",
       "      <td>To identify candidate keys in the Employee tab...</td>\n",
       "      <td>multi_hop_specific_query_synthesizer</td>\n",
       "    </tr>\n",
       "  </tbody>\n",
       "</table>\n",
       "</div>"
      ],
      "text/plain": [
       "                                          user_input  \\\n",
       "0  What significant development in relational dat...   \n",
       "1  What is the significance of a primary key in a...   \n",
       "2  What is the significance of the full outer joi...   \n",
       "3  What are the extended relational algebra opera...   \n",
       "4  Wht is the city of the cust_name in the Deposi...   \n",
       "5  How do you identify candidate keys in the Empl...   \n",
       "\n",
       "                                  reference_contexts  \\\n",
       "0  [Introduction to relational databases \\n \\nInt...   \n",
       "1  [ A stored procedure is a high-end database t...   \n",
       "2  [<1-hop>\\n\\n Types of outer join \\no Left out...   \n",
       "3  [<1-hop>\\n\\nIII) Extended Relational Algebra o...   \n",
       "4  [<1-hop>\\n\\n Consider two table (Depositor & ...   \n",
       "5  [<1-hop>\\n\\n Candidate keys are selected from...   \n",
       "\n",
       "                                           reference  \\\n",
       "0  The relational database was originally defined...   \n",
       "1  A primary key is a field that uniquely identif...   \n",
       "2  The full outer join in SQL is significant beca...   \n",
       "3  The extended relational algebra operations inc...   \n",
       "4  The city of the cust_name in the Depositor tab...   \n",
       "5  To identify candidate keys in the Employee tab...   \n",
       "\n",
       "                        synthesizer_name  \n",
       "0  single_hop_specific_query_synthesizer  \n",
       "1  single_hop_specific_query_synthesizer  \n",
       "2   multi_hop_abstract_query_synthesizer  \n",
       "3   multi_hop_abstract_query_synthesizer  \n",
       "4   multi_hop_specific_query_synthesizer  \n",
       "5   multi_hop_specific_query_synthesizer  "
      ]
     },
     "execution_count": 16,
     "metadata": {},
     "output_type": "execute_result"
    }
   ],
   "source": [
    "dataset.to_pandas()"
   ]
  },
  {
   "cell_type": "markdown",
   "id": "b7bc72c3",
   "metadata": {},
   "source": [
    "Prepere data"
   ]
  },
  {
   "cell_type": "code",
   "execution_count": 29,
   "id": "dfb466fc",
   "metadata": {},
   "outputs": [],
   "source": [
    "from agent.agent import tutor_agent\n",
    "from langchain_core.messages import HumanMessage"
   ]
  },
  {
   "cell_type": "code",
   "execution_count": 75,
   "id": "7ff3d0b7",
   "metadata": {},
   "outputs": [
    {
     "data": {
      "text/plain": [
       "[HumanMessage(content='How to use key?', additional_kwargs={}, response_metadata={}),\n",
       " AIMessage(content='', additional_kwargs={'refusal': None}, response_metadata={'token_usage': {'completion_tokens': 19, 'prompt_tokens': 194, 'total_tokens': 213, 'completion_tokens_details': {'accepted_prediction_tokens': 0, 'audio_tokens': 0, 'reasoning_tokens': 0, 'rejected_prediction_tokens': 0}, 'prompt_tokens_details': {'audio_tokens': 0, 'cached_tokens': 0}}, 'model_provider': 'openai', 'model_name': 'gpt-4.1-nano-2025-04-14', 'system_fingerprint': 'fp_1f35c1788c', 'id': 'chatcmpl-CSrlgIpNi3NNwUX89aJEHbMZ6MWqo', 'service_tier': 'default', 'finish_reason': 'tool_calls', 'logprobs': None}, id='lc_run--ff8640fb-4788-4428-ad5e-3562d9b30302-0', tool_calls=[{'name': 'knowledge_base_search', 'args': {'query': 'How to use key'}, 'id': 'call_zFt7Zgi1TtNsQuGXXnod66JV', 'type': 'tool_call'}], usage_metadata={'input_tokens': 194, 'output_tokens': 19, 'total_tokens': 213, 'input_token_details': {'audio': 0, 'cache_read': 0}, 'output_token_details': {'audio': 0, 'reasoning': 0}}),\n",
       " ToolMessage(content='[\"Super key \\\\n1. {Emp_Id} \\\\n2. {Emp_Number} \\\\n3. {Emp_Id, Emp_Number} \\\\n4. {Emp_Id, Emp_Name} \\\\n5. {Emp_Id, Emp_Number, Emp_Name} \\\\n6. {Emp_Number, Emp_Name} \\\\n \\\\nIdentify Candidate key \\\\n1. {Emp_Id} – No redundant attributes\", \"Super key \\\\n1. {Emp_Id} \\\\n2. {Emp_Number} \\\\n3. {Emp_Id, Emp_Number} \\\\n4. {Emp_Id, Emp_Name} \\\\n5. {Emp_Id, Emp_Number, Emp_Name} \\\\n6. {Emp_Number, Emp_Name} \\\\n \\\\nIdentify Candidate key \\\\n1. {Emp_Id} – No redundant attributes\", \"\\uf0b7 Candidate keys are selected from the set of super keys, the only thing we take \\\\ncare while selecting candidate key is that the candidate key should not have any \\\\nredundant attributes. \\\\n \\\\nExample of super & candidate key\", \"\\uf0b7 Candidate keys are selected from the set of super keys, the only thing we take \\\\ncare while selecting candidate key is that the candidate key should not have any \\\\nredundant attributes. \\\\n \\\\nExample of super & candidate key\", \"\\uf0b7 A foreign key is a reference to a key in another relation. \\\\n\\uf0b7 Primary key of one table is used as foreign key in another table. \\\\n\\uf0b7 Example: Consider two tables( subject & timetable)\"]', name='knowledge_base_search', tool_call_id='call_zFt7Zgi1TtNsQuGXXnod66JV'),\n",
       " AIMessage(content=\"A key in a database is a set of one or more attributes (or columns) that uniquely identify a record in a table. Using a key helps ensure that each record can be uniquely distinguished from others, which is essential for managing and organizing data effectively.\\n\\nThere are different types of keys:\\n\\n- **Super Key:** A set of one or more attributes that can uniquely identify a record. For example, {Emp_Id} or {Emp_Number, Emp_Name}.\\n\\n- **Candidate Key:** A minimal super key, meaning it has no redundant attributes. For example, if {Emp_Id} alone can identify the record without additional attributes, then {Emp_Id} is a candidate key.\\n\\n- **Primary Key:** A chosen candidate key used to uniquely identify records in a table.\\n\\n- **Foreign Key:** An attribute in one table that references a primary key in another table, establishing a relationship between the tables.\\n\\n**Example Analogy:**\\nThink of a library. The library has many books, each with a unique barcode. The barcode acts as a key because it uniquely identifies each book. If you also consider the combination of the book's title and author as a key, that might work too, but since the barcode alone is enough, it's the best choice as a primary key.\\n\\nWould you like to see how to identify or use a key in a specific example?\", additional_kwargs={'refusal': None}, response_metadata={'token_usage': {'completion_tokens': 274, 'prompt_tokens': 544, 'total_tokens': 818, 'completion_tokens_details': {'accepted_prediction_tokens': 0, 'audio_tokens': 0, 'reasoning_tokens': 0, 'rejected_prediction_tokens': 0}, 'prompt_tokens_details': {'audio_tokens': 0, 'cached_tokens': 0}}, 'model_provider': 'openai', 'model_name': 'gpt-4.1-nano-2025-04-14', 'system_fingerprint': 'fp_1f35c1788c', 'id': 'chatcmpl-CSrliAcvkKKxWoXUqB46vsKrS8tug', 'service_tier': 'default', 'finish_reason': 'stop', 'logprobs': None}, id='lc_run--e8e83f4b-42fa-418c-9a8c-015f656fc585-0', usage_metadata={'input_tokens': 544, 'output_tokens': 274, 'total_tokens': 818, 'input_token_details': {'audio': 0, 'cache_read': 0}, 'output_token_details': {'audio': 0, 'reasoning': 0}})]"
      ]
     },
     "execution_count": 75,
     "metadata": {},
     "output_type": "execute_result"
    }
   ],
   "source": [
    "# from agent.utils.tools import read_from_temp\n",
    "\n",
    "# eval_contexts = read_from_temp()\n",
    "# eval_contexts\n",
    "\n",
    "res = tutor_agent.invoke({\"messages\": [HumanMessage(\"How to use key?\")], \"retrieved_docs\": []})\n",
    "res[\"messages\"]\n",
    "\n",
    "# res[\"retrieved_docs\"]\n"
   ]
  },
  {
   "cell_type": "code",
   "execution_count": 65,
   "id": "10df9291",
   "metadata": {},
   "outputs": [],
   "source": [
    "for test_row in dataset:\n",
    "    query = test_row.eval_sample.user_input\n",
    "    response = tutor_agent.invoke({\"messages\": [HumanMessage(query)]})\n",
    "\n",
    "    # test_row.eval_sample.retrieved_docs = response[\"retrieved_docs\"]\n",
    "    test_row.eval_sample.response = response[\"messages\"][-1].content\n",
    "    "
   ]
  },
  {
   "cell_type": "code",
   "execution_count": 66,
   "id": "87a11c51",
   "metadata": {},
   "outputs": [],
   "source": [
    "from ragas import EvaluationDataset\n",
    "\n",
    "evaluation_dataset = EvaluationDataset.from_pandas(dataset.to_pandas())"
   ]
  },
  {
   "cell_type": "markdown",
   "id": "40719fc5",
   "metadata": {},
   "source": [
    "Run evaluation"
   ]
  },
  {
   "cell_type": "code",
   "execution_count": 70,
   "id": "03be16a7",
   "metadata": {},
   "outputs": [
    {
     "name": "stderr",
     "output_type": "stream",
     "text": [
      "Evaluating: 100%|██████████| 6/6 [00:25<00:00,  4.26s/it]\n"
     ]
    },
    {
     "data": {
      "text/plain": [
       "{'factual_correctness(mode=f1)': 0.5883}"
      ]
     },
     "execution_count": 70,
     "metadata": {},
     "output_type": "execute_result"
    }
   ],
   "source": [
    "from ragas import evaluate\n",
    "from ragas.llms import LangchainLLMWrapper\n",
    "from ragas.metrics import LLMContextRecall, Faithfulness, FactualCorrectness\n",
    "\n",
    "result = evaluate(dataset=evaluation_dataset,metrics=[FactualCorrectness()],llm=evaluator_llm)\n",
    "result"
   ]
  }
 ],
 "metadata": {
  "kernelspec": {
   "display_name": ".venv",
   "language": "python",
   "name": "python3"
  },
  "language_info": {
   "codemirror_mode": {
    "name": "ipython",
    "version": 3
   },
   "file_extension": ".py",
   "mimetype": "text/x-python",
   "name": "python",
   "nbconvert_exporter": "python",
   "pygments_lexer": "ipython3",
   "version": "3.13.7"
  }
 },
 "nbformat": 4,
 "nbformat_minor": 5
}
