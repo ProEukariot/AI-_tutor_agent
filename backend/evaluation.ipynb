{
 "cells": [
  {
   "cell_type": "markdown",
   "id": "d147cb4c",
   "metadata": {},
   "source": [
    "Evaluation"
   ]
  },
  {
   "cell_type": "markdown",
   "id": "77af30df",
   "metadata": {},
   "source": [
    "Import environment variables"
   ]
  },
  {
   "cell_type": "code",
   "execution_count": 11,
   "id": "2202d378",
   "metadata": {},
   "outputs": [
    {
     "data": {
      "text/plain": [
       "True"
      ]
     },
     "execution_count": 11,
     "metadata": {},
     "output_type": "execute_result"
    }
   ],
   "source": [
    "import dotenv\n",
    "import os\n",
    "\n",
    "dotenv.load_dotenv()\n"
   ]
  },
  {
   "cell_type": "markdown",
   "id": "25cead24",
   "metadata": {},
   "source": [
    "Load docs"
   ]
  },
  {
   "cell_type": "code",
   "execution_count": 118,
   "id": "5d7b9e16",
   "metadata": {},
   "outputs": [
    {
     "data": {
      "text/plain": [
       "Document(metadata={'producer': 'Microsoft: Print To PDF', 'creator': '', 'creationdate': '2023-07-15T11:40:07+05:30', 'source': 'test_data/INTRODUCTION-TO-RDBMS.pdf', 'file_path': 'test_data/INTRODUCTION-TO-RDBMS.pdf', 'total_pages': 24, 'format': 'PDF 1.7', 'title': 'Microsoft Word - Introduction to relational databases', 'author': 'Administrator', 'subject': '', 'keywords': '', 'moddate': '2023-07-15T11:40:07+05:30', 'trapped': '', 'modDate': \"D:20230715114007+05'30'\", 'creationDate': \"D:20230715114007+05'30'\", 'page': 0}, page_content='Introduction to relational databases \\n \\nIntroduction to relational databases \\n \\n\\uf0b7 A relational database is based on the relational model and uses a collection of \\ntables to represent both data and the relationship among those data. \\n\\uf0b7 It also includes DDL and DML  \\n\\uf0b7 Relational database was originally defined by Edger Codd at IBM Research \\ncenter in 1970. \\n\\uf0b7 In relational database, user only needs to understand logical structure of data, \\nnot how it is physically stored. \\n\\uf0b7 Data is represented using tables \\uf0e0 consists of rows and columns. \\n\\uf0b7 A relational database simply a collection of tables. \\n \\nRelational database basic concepts \\n \\ni) Relations or table \\n\\uf0b7 A relation is defined as set of tuples that have the same attribute \\n\\uf0b7 A relation is usually described as table, which is organized into rows and \\ncolumns. \\nii) Base and derived relation \\n\\uf0b7 In relational database, all data are stored and accessed using relation. \\n\\uf0b7 Relation / table which store data are called base relations. \\n\\uf0b7 Relations which do not store data, but are computed by applying relational \\noperator are called Derived relation. \\niii) Tuple / Row / Record \\n\\uf0b7 It holds all information about one item \\n\\uf0b7 Example: all information like roll, name, age, address, age, mark etc., of a \\nparticular student. \\niv) Field / Column \\n\\uf0b7 A field holds one piece of information about an item. \\n\\uf0b7 Field is column in database table. \\n\\uf0b7 Example: age of all the student. \\nv) Constraints \\n\\uf0b7 Condition specified for a particular data. \\n\\uf0b7 Constraints restrict data that can be stored in relations. \\n\\uf0b7 Example: User can set constraints that a given integer attribute should be \\nbetween 1 & 10. \\nvi) Data type \\n\\uf0b7 Every field in a database table is assigned a data types, which describe the kind \\nof data that can be stored in the field. \\nvii) Stored procedure')"
      ]
     },
     "execution_count": 118,
     "metadata": {},
     "output_type": "execute_result"
    }
   ],
   "source": [
    "from langchain_community.document_loaders import DirectoryLoader\n",
    "from langchain_community.document_loaders import PyMuPDFLoader\n",
    "\n",
    "\n",
    "path = \"test_data/\"\n",
    "loader = DirectoryLoader(path, glob=\"*.pdf\", loader_cls=PyMuPDFLoader)\n",
    "docs = loader.load()\n",
    "\n",
    "docs[0]"
   ]
  },
  {
   "cell_type": "markdown",
   "id": "6878830b",
   "metadata": {},
   "source": [
    "choose Llm"
   ]
  },
  {
   "cell_type": "code",
   "execution_count": 119,
   "id": "a03dde41",
   "metadata": {},
   "outputs": [
    {
     "name": "stderr",
     "output_type": "stream",
     "text": [
      "/tmp/ipykernel_82574/2774485547.py:6: DeprecationWarning: LangchainLLMWrapper is deprecated and will be removed in a future version. Use the modern LLM providers instead: from ragas.llms.base import llm_factory; llm = llm_factory('gpt-4o-mini') or from ragas.llms.base import instructor_llm_factory; llm = instructor_llm_factory('openai', client=openai_client)\n",
      "  evaluator_llm = evaluator_llm = LangchainLLMWrapper(ChatOpenAI(model=\"gpt-4o-mini\"))\n",
      "/tmp/ipykernel_82574/2774485547.py:7: DeprecationWarning: LangchainLLMWrapper is deprecated and will be removed in a future version. Use the modern LLM providers instead: from ragas.llms.base import llm_factory; llm = llm_factory('gpt-4o-mini') or from ragas.llms.base import instructor_llm_factory; llm = instructor_llm_factory('openai', client=openai_client)\n",
      "  generator_llm = LangchainLLMWrapper(ChatOpenAI(model=\"gpt-4o-mini\"))\n"
     ]
    }
   ],
   "source": [
    "from ragas.llms import LangchainLLMWrapper\n",
    "from langchain_openai import ChatOpenAI\n",
    "from ragas.embeddings import OpenAIEmbeddings\n",
    "import openai\n",
    "\n",
    "evaluator_llm = evaluator_llm = LangchainLLMWrapper(ChatOpenAI(model=\"gpt-4o-mini\"))\n",
    "generator_llm = LangchainLLMWrapper(ChatOpenAI(model=\"gpt-4o-mini\"))\n",
    "openai_client = openai.OpenAI()\n",
    "generator_embeddings = OpenAIEmbeddings(client=openai_client)"
   ]
  },
  {
   "cell_type": "markdown",
   "id": "a934d5cb",
   "metadata": {},
   "source": [
    "Generate testset"
   ]
  },
  {
   "cell_type": "code",
   "execution_count": 120,
   "id": "cdf44ba1",
   "metadata": {},
   "outputs": [
    {
     "name": "stderr",
     "output_type": "stream",
     "text": [
      "Applying SummaryExtractor:   0%|          | 0/23 [00:00<?, ?it/s]"
     ]
    },
    {
     "name": "stderr",
     "output_type": "stream",
     "text": [
      "Applying SummaryExtractor: 100%|██████████| 23/23 [00:12<00:00,  1.86it/s]\n",
      "Applying CustomNodeFilter:   4%|▍         | 1/24 [00:00<00:18,  1.25it/s]Node 58b5d19d-3462-43e6-be30-e2ef72aa3324 does not have a summary. Skipping filtering.\n",
      "Applying CustomNodeFilter: 100%|██████████| 24/24 [00:11<00:00,  2.09it/s]\n",
      "Applying EmbeddingExtractor:   0%|          | 0/23 [00:00<?, ?it/s]/root/py/proj/backend/.venv/lib/python3.13/site-packages/ragas/testset/transforms/base.py:188: UserWarning: Using sync embedding model OpenAIEmbeddings in async context. This may impact performance. Consider using an async-compatible embedding model for better performance.\n",
      "  property_name, property_value = await self.extract(node)\n",
      "Applying EmbeddingExtractor: 100%|██████████| 23/23 [00:01<00:00, 14.19it/s]\n",
      "Applying ThemesExtractor: 100%|██████████| 24/24 [00:09<00:00,  2.54it/s]\n",
      "Applying NERExtractor: 100%|██████████| 24/24 [00:09<00:00,  2.51it/s]\n",
      "Applying CosineSimilarityBuilder: 100%|██████████| 1/1 [00:00<00:00, 124.87it/s]\n",
      "Applying OverlapScoreBuilder: 100%|██████████| 1/1 [00:00<00:00, 283.02it/s]\n",
      "Generating personas: 100%|██████████| 3/3 [00:01<00:00,  1.89it/s]\n",
      "Generating Scenarios: 100%|██████████| 3/3 [00:07<00:00,  2.35s/it]\n",
      "Generating Samples: 100%|██████████| 6/6 [00:03<00:00,  1.59it/s]\n"
     ]
    }
   ],
   "source": [
    "from ragas.testset import TestsetGenerator\n",
    "\n",
    "generator = TestsetGenerator(llm=generator_llm, embedding_model=generator_embeddings)\n",
    "dataset = generator.generate_with_langchain_docs(docs, testset_size=5)"
   ]
  },
  {
   "cell_type": "code",
   "execution_count": 121,
   "id": "f327dc1a",
   "metadata": {},
   "outputs": [
    {
     "data": {
      "text/html": [
       "<div>\n",
       "<style scoped>\n",
       "    .dataframe tbody tr th:only-of-type {\n",
       "        vertical-align: middle;\n",
       "    }\n",
       "\n",
       "    .dataframe tbody tr th {\n",
       "        vertical-align: top;\n",
       "    }\n",
       "\n",
       "    .dataframe thead th {\n",
       "        text-align: right;\n",
       "    }\n",
       "</style>\n",
       "<table border=\"1\" class=\"dataframe\">\n",
       "  <thead>\n",
       "    <tr style=\"text-align: right;\">\n",
       "      <th></th>\n",
       "      <th>user_input</th>\n",
       "      <th>reference_contexts</th>\n",
       "      <th>reference</th>\n",
       "      <th>synthesizer_name</th>\n",
       "    </tr>\n",
       "  </thead>\n",
       "  <tbody>\n",
       "    <tr>\n",
       "      <th>0</th>\n",
       "      <td>Who originally defined the relational database...</td>\n",
       "      <td>[Introduction to relational databases \\n \\nInt...</td>\n",
       "      <td>The relational database was originally defined...</td>\n",
       "      <td>single_hop_specific_query_synthesizer</td>\n",
       "    </tr>\n",
       "    <tr>\n",
       "      <th>1</th>\n",
       "      <td>What is the role of a primary key in a relatio...</td>\n",
       "      <td>[ A stored procedure is a high-end database t...</td>\n",
       "      <td>A primary key is a field that uniquely identif...</td>\n",
       "      <td>single_hop_specific_query_synthesizer</td>\n",
       "    </tr>\n",
       "    <tr>\n",
       "      <th>2</th>\n",
       "      <td>What role do stored procedures play in relatio...</td>\n",
       "      <td>[&lt;1-hop&gt;\\n\\n A stored procedure is a high-end...</td>\n",
       "      <td>Stored procedures are high-end database tools ...</td>\n",
       "      <td>multi_hop_abstract_query_synthesizer</td>\n",
       "    </tr>\n",
       "    <tr>\n",
       "      <th>3</th>\n",
       "      <td>What is the significance of using a full outer...</td>\n",
       "      <td>[&lt;1-hop&gt;\\n\\nName \\nTamil \\nSelva \\nDurai \\nKut...</td>\n",
       "      <td>The significance of using a full outer join in...</td>\n",
       "      <td>multi_hop_abstract_query_synthesizer</td>\n",
       "    </tr>\n",
       "    <tr>\n",
       "      <th>4</th>\n",
       "      <td>What is the relation between the tables Deposi...</td>\n",
       "      <td>[&lt;1-hop&gt;\\n\\n Consider two table (Depositor &amp; ...</td>\n",
       "      <td>The relation between the tables Depositor and ...</td>\n",
       "      <td>multi_hop_specific_query_synthesizer</td>\n",
       "    </tr>\n",
       "    <tr>\n",
       "      <th>5</th>\n",
       "      <td>What is the purpose of using embedded SQL in p...</td>\n",
       "      <td>[&lt;1-hop&gt;\\n\\nAdvanced SQL features \\nEmbedded S...</td>\n",
       "      <td>The purpose of using embedded SQL in programmi...</td>\n",
       "      <td>multi_hop_specific_query_synthesizer</td>\n",
       "    </tr>\n",
       "  </tbody>\n",
       "</table>\n",
       "</div>"
      ],
      "text/plain": [
       "                                          user_input  \\\n",
       "0  Who originally defined the relational database...   \n",
       "1  What is the role of a primary key in a relatio...   \n",
       "2  What role do stored procedures play in relatio...   \n",
       "3  What is the significance of using a full outer...   \n",
       "4  What is the relation between the tables Deposi...   \n",
       "5  What is the purpose of using embedded SQL in p...   \n",
       "\n",
       "                                  reference_contexts  \\\n",
       "0  [Introduction to relational databases \\n \\nInt...   \n",
       "1  [ A stored procedure is a high-end database t...   \n",
       "2  [<1-hop>\\n\\n A stored procedure is a high-end...   \n",
       "3  [<1-hop>\\n\\nName \\nTamil \\nSelva \\nDurai \\nKut...   \n",
       "4  [<1-hop>\\n\\n Consider two table (Depositor & ...   \n",
       "5  [<1-hop>\\n\\nAdvanced SQL features \\nEmbedded S...   \n",
       "\n",
       "                                           reference  \\\n",
       "0  The relational database was originally defined...   \n",
       "1  A primary key is a field that uniquely identif...   \n",
       "2  Stored procedures are high-end database tools ...   \n",
       "3  The significance of using a full outer join in...   \n",
       "4  The relation between the tables Depositor and ...   \n",
       "5  The purpose of using embedded SQL in programmi...   \n",
       "\n",
       "                        synthesizer_name  \n",
       "0  single_hop_specific_query_synthesizer  \n",
       "1  single_hop_specific_query_synthesizer  \n",
       "2   multi_hop_abstract_query_synthesizer  \n",
       "3   multi_hop_abstract_query_synthesizer  \n",
       "4   multi_hop_specific_query_synthesizer  \n",
       "5   multi_hop_specific_query_synthesizer  "
      ]
     },
     "execution_count": 121,
     "metadata": {},
     "output_type": "execute_result"
    }
   ],
   "source": [
    "dataset.to_pandas()"
   ]
  },
  {
   "cell_type": "markdown",
   "id": "b7bc72c3",
   "metadata": {},
   "source": [
    "Prepere data"
   ]
  },
  {
   "cell_type": "code",
   "execution_count": 122,
   "id": "dfb466fc",
   "metadata": {},
   "outputs": [],
   "source": [
    "from agent.agent import tutor_agent\n",
    "from langchain_core.messages import HumanMessage\n",
    "import json\n"
   ]
  },
  {
   "cell_type": "code",
   "execution_count": 123,
   "id": "7ff3d0b7",
   "metadata": {},
   "outputs": [
    {
     "data": {
      "text/plain": [
       "5"
      ]
     },
     "execution_count": 123,
     "metadata": {},
     "output_type": "execute_result"
    }
   ],
   "source": [
    "#THIS CELL IS FOR DEBUGGING\n",
    "\n",
    "# from agent.utils.tools import read_from_temp\n",
    "\n",
    "# eval_contexts = read_from_temp()\n",
    "# eval_contexts\n",
    "\n",
    "import json\n",
    "\n",
    "res = tutor_agent.invoke({\"messages\": [HumanMessage(\"How to use key?\")], \"retrieved_docs\": []})\n",
    "msgs = res[\"messages\"]\n",
    "\n",
    "retrieved_contexts = []\n",
    "\n",
    "for msg in msgs:\n",
    "    if msg.name == \"knowledge_base_search\":\n",
    "        retrieved_contexts.append(msg.content)\n",
    "\n",
    "parsed_contents = [json.loads(item) for item in retrieved_contexts]\n",
    "\n",
    "contents = []\n",
    "for inner_list in parsed_contents:\n",
    "    for item in inner_list:\n",
    "        contents.append(item)\n",
    "\n",
    "len(contents)\n",
    "\n",
    "# res[\"retrieved_docs\"]\n"
   ]
  },
  {
   "cell_type": "code",
   "execution_count": 124,
   "id": "10df9291",
   "metadata": {},
   "outputs": [],
   "source": [
    "for test_row in dataset:\n",
    "    query = test_row.eval_sample.user_input\n",
    "    response = tutor_agent.invoke({\"messages\": [HumanMessage(query)]})\n",
    "\n",
    "    msgs = response[\"messages\"]\n",
    "\n",
    "    retrieved_contexts = []\n",
    "\n",
    "    for msg in msgs:\n",
    "        if msg.name == \"knowledge_base_search\":\n",
    "            retrieved_contexts.append(msg.content)\n",
    "\n",
    "    parsed_contents = [json.loads(item) for item in retrieved_contexts]\n",
    "\n",
    "    contents = []\n",
    "    for inner_list in parsed_contents:\n",
    "        for item in inner_list:\n",
    "            contents.append(item)\n",
    "\n",
    "    test_row.eval_sample.retrieved_contexts = contents\n",
    "    test_row.eval_sample.response = response[\"messages\"][-1].content\n",
    "    "
   ]
  },
  {
   "cell_type": "code",
   "execution_count": 125,
   "id": "87a11c51",
   "metadata": {},
   "outputs": [],
   "source": [
    "from ragas import EvaluationDataset\n",
    "\n",
    "evaluation_dataset = EvaluationDataset.from_pandas(dataset.to_pandas())"
   ]
  },
  {
   "cell_type": "markdown",
   "id": "40719fc5",
   "metadata": {},
   "source": [
    "Run evaluation"
   ]
  },
  {
   "cell_type": "code",
   "execution_count": 126,
   "id": "03be16a7",
   "metadata": {},
   "outputs": [
    {
     "name": "stderr",
     "output_type": "stream",
     "text": [
      "Evaluating:   0%|          | 0/24 [00:00<?, ?it/s]LLM returned 1 generations instead of requested 3. Proceeding with 1 generations.\n",
      "Evaluating:   4%|▍         | 1/24 [00:01<00:37,  1.63s/it]LLM returned 1 generations instead of requested 3. Proceeding with 1 generations.\n",
      "LLM returned 1 generations instead of requested 3. Proceeding with 1 generations.\n",
      "LLM returned 1 generations instead of requested 3. Proceeding with 1 generations.\n",
      "Evaluating:  25%|██▌       | 6/24 [00:10<00:26,  1.46s/it]LLM returned 1 generations instead of requested 3. Proceeding with 1 generations.\n",
      "Evaluating:  38%|███▊      | 9/24 [00:13<00:20,  1.34s/it]LLM returned 1 generations instead of requested 3. Proceeding with 1 generations.\n",
      "Evaluating: 100%|██████████| 24/24 [00:36<00:00,  1.51s/it]\n"
     ]
    },
    {
     "data": {
      "text/plain": [
       "{'faithfulness': 0.7728, 'answer_relevancy': 0.9538, 'llm_context_precision_with_reference': 0.8448, 'context_recall': 0.9250}"
      ]
     },
     "execution_count": 126,
     "metadata": {},
     "output_type": "execute_result"
    }
   ],
   "source": [
    "from ragas import evaluate\n",
    "from ragas.llms import LangchainLLMWrapper\n",
    "from ragas.metrics import Faithfulness, ResponseRelevancy, LLMContextPrecisionWithReference, LLMContextRecall\n",
    "\n",
    "result = evaluate(dataset=evaluation_dataset,metrics=[Faithfulness(), ResponseRelevancy(), LLMContextPrecisionWithReference(), LLMContextRecall()],llm=evaluator_llm)\n",
    "result"
   ]
  },
  {
   "cell_type": "markdown",
   "id": "a2613598",
   "metadata": {},
   "source": [
    "## Observation\n",
    "\n",
    "The system performed 'well' overall.\n",
    "\n",
    "scores: {\n",
    "    'faithfulness': 0.7742, \n",
    "    'answer_relevancy': 0.9451, \n",
    "    'llm_context_precision_with_reference': 0.9021, \n",
    "    'context_recall': 0.9444\n",
    "}\n",
    "\n",
    "Faithfulness is 'good' but stands out from other values and can be improved. One way to improve it to add Rerenker"
   ]
  },
  {
   "cell_type": "code",
   "execution_count": null,
   "id": "1c1e7477",
   "metadata": {},
   "outputs": [],
   "source": []
  }
 ],
 "metadata": {
  "kernelspec": {
   "display_name": ".venv",
   "language": "python",
   "name": "python3"
  },
  "language_info": {
   "codemirror_mode": {
    "name": "ipython",
    "version": 3
   },
   "file_extension": ".py",
   "mimetype": "text/x-python",
   "name": "python",
   "nbconvert_exporter": "python",
   "pygments_lexer": "ipython3",
   "version": "3.13.7"
  }
 },
 "nbformat": 4,
 "nbformat_minor": 5
}
